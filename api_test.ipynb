{
 "cells": [
  {
   "cell_type": "markdown",
   "metadata": {},
   "source": [
    "## API Test Document\n",
    "\n",
    "#### Setup\n",
    "The next cell includes the setup (in Python). If you want to run the code, you will have to install supabase:\n",
    "`pip3 install supabase`\n",
    "You will also need to create a file, \"keys.py\", put it into the `data` folder, and paste in the API key provided to you. \n",
    "NEVER commit the key file. \n",
    "\n",
    "[Supabase Documentation](https://supabase.com/docs/reference/python/introduction)"
   ]
  },
  {
   "cell_type": "code",
   "execution_count": null,
   "metadata": {},
   "outputs": [
    {
     "name": "stdout",
     "output_type": "stream",
     "text": [
      "Loading ClinicalBERT model...\n",
      "ClinicalBERT model loaded successfully!\n",
      "⚠️  Supabase connection disabled - using placeholder API key\n",
      "To enable Supabase: update your API key in data/keys.py or set SUPABASE_KEY environment variable\n"
     ]
    }
   ],
   "source": [
    "# imports\n",
    "from transformers import AutoTokenizer, AutoModel\n",
    "import torch\n",
    "import os\n",
    "\n",
    "# Initialize ClinicalBERT model\n",
    "local_model_path = \"/Users/zrb/Downloads/Technation-Healthsync-2025-main/local_model\"\n",
    "\n",
    "try:\n",
    "    # 尝试使用本地模型\n",
    "    print(\"正在加载本地ClinicalBERT模型...\")\n",
    "    tokenizer = AutoTokenizer.from_pretrained(\"medicalai/ClinicalBERT\")  # 使用预训练tokenizer\n",
    "    model = AutoModel.from_pretrained(local_model_path)\n",
    "    print(\"本地ClinicalBERT模型加载完成\")\n",
    "except Exception as e:\n",
    "    print(f\"本地模型加载失败: {e}\")\n",
    "    print(\"回退到在线模型...\")\n",
    "    tokenizer = AutoTokenizer.from_pretrained(\"medicalai/ClinicalBERT\")\n",
    "    model = AutoModel.from_pretrained(\"medicalai/ClinicalBERT\")\n",
    "    print(\"在线ClinicalBERT模型加载完成\")\n",
    "\n",
    "# Supabase setup (optional - only if you have a valid API key)\n",
    "try:\n",
    "    from supabase import create_client, Client\n",
    "    \n",
    "    url: str = \"https://sthnvivctugihwhomsxu.supabase.co\" # the URL endpoint\n",
    "    \n",
    "    # Try to get the Supabase key from environment variable first, then from keys file\n",
    "    try:\n",
    "        key: str = os.environ.get(\"SUPABASE_KEY\")\n",
    "        if not key:\n",
    "            import data.keys as keys\n",
    "            key: str = keys.SUPABASE_KEY\n",
    "    except ImportError:\n",
    "        print(\"Warning: data/keys.py not found. Please set SUPABASE_KEY environment variable or create data/keys.py\")\n",
    "        key = \"your_supabase_key_here\"  # Placeholder\n",
    "    \n",
    "    if key == \"your_supabase_key_here\":\n",
    "        print(\"⚠️  Supabase connection disabled - using placeholder API key\")\n",
    "        print(\"To enable Supabase: update your API key in data/keys.py or set SUPABASE_KEY environment variable\")\n",
    "        supabase = None\n",
    "    else:\n",
    "        supabase: Client = create_client(url, key)\n",
    "        print(\"Supabase client created successfully!\")\n",
    "        \n",
    "except Exception as e:\n",
    "    print(f\"Supabase setup failed: {e}\")\n",
    "    print(\"Continuing without Supabase connection...\")\n",
    "    supabase = None\n"
   ]
  },
  {
   "cell_type": "code",
   "execution_count": 11,
   "metadata": {},
   "outputs": [
    {
     "name": "stdout",
     "output_type": "stream",
     "text": [
      "ClinicalBERT model is ready for use!\n",
      "Tokenizer vocab size: 119547\n",
      "Model config: DistilBertConfig {\n",
      "  \"activation\": \"gelu\",\n",
      "  \"architectures\": [\n",
      "    \"DistilBertForMaskedLM\"\n",
      "  ],\n",
      "  \"attention_dropout\": 0.1,\n",
      "  \"dim\": 768,\n",
      "  \"dropout\": 0.1,\n",
      "  \"dtype\": \"float32\",\n",
      "  \"hidden_dim\": 3072,\n",
      "  \"initializer_range\": 0.02,\n",
      "  \"max_position_embeddings\": 512,\n",
      "  \"model_type\": \"distilbert\",\n",
      "  \"n_heads\": 12,\n",
      "  \"n_layers\": 6,\n",
      "  \"output_past\": true,\n",
      "  \"pad_token_id\": 0,\n",
      "  \"qa_dropout\": 0.1,\n",
      "  \"seq_classif_dropout\": 0.2,\n",
      "  \"sinusoidal_pos_embds\": false,\n",
      "  \"tie_weights_\": true,\n",
      "  \"transformers_version\": \"4.56.2\",\n",
      "  \"vocab_size\": 119547\n",
      "}\n",
      "\n"
     ]
    }
   ],
   "source": [
    "# ClinicalBERT model is already initialized in the previous cell\n",
    "print(\"ClinicalBERT model is ready for use!\")\n",
    "print(f\"Tokenizer vocab size: {tokenizer.vocab_size}\")\n",
    "print(f\"Model config: {model.config}\")\n"
   ]
  },
  {
   "cell_type": "code",
   "execution_count": 12,
   "metadata": {},
   "outputs": [
    {
     "name": "stdout",
     "output_type": "stream",
     "text": [
      "Supabase not available - using mock data\n",
      "Mock patient data:\n",
      "[{'patient_uhid': 1, 'patient_name': 'Victor Chen', 'patient_age': 21}, {'patient_uhid': 2, 'patient_name': 'Alice Johnson', 'patient_age': 35}, {'patient_uhid': 3, 'patient_name': 'Bob Smith', 'patient_age': 42}]\n"
     ]
    }
   ],
   "source": [
    "# Python methods which mimic SQL functions (SELECT * FROM PATIENTS)\n",
    "if supabase is not None:\n",
    "    try:\n",
    "        response = supabase.table(\"Patients\").select(\"*\").execute()\n",
    "        print(\"Supabase query successful:\")\n",
    "        print(response.data)\n",
    "    except Exception as e:\n",
    "        print(f\"Supabase query failed: {e}\")\n",
    "else:\n",
    "    print(\"Supabase not available - using mock data\")\n",
    "    # Mock data for demonstration\n",
    "    mock_patients = [\n",
    "        {\"patient_uhid\": 1, \"patient_name\": \"Victor Chen\", \"patient_age\": 21},\n",
    "        {\"patient_uhid\": 2, \"patient_name\": \"Alice Johnson\", \"patient_age\": 35},\n",
    "        {\"patient_uhid\": 3, \"patient_name\": \"Bob Smith\", \"patient_age\": 42}\n",
    "    ]\n",
    "    print(\"Mock patient data:\")\n",
    "    print(mock_patients)"
   ]
  },
  {
   "cell_type": "code",
   "execution_count": 13,
   "metadata": {},
   "outputs": [
    {
     "name": "stdout",
     "output_type": "stream",
     "text": [
      "Supabase not available - using mock filtered data\n",
      "Mock filtered patient data:\n",
      "[{'patient_uhid': 1, 'patient_name': 'Victor Chen', 'patient_age': 21}]\n"
     ]
    }
   ],
   "source": [
    "# Applying filters to query for a single patient\n",
    "if supabase is not None:\n",
    "    try:\n",
    "        response = supabase.table(\"Patients\").select(\"*\").eq(\"patient_name\", \"Victor Chen\").execute()\n",
    "        print(\"Supabase filtered query successful:\")\n",
    "        print(response.data)\n",
    "    except Exception as e:\n",
    "        print(f\"Supabase query failed: {e}\")\n",
    "else:\n",
    "    print(\"Supabase not available - using mock filtered data\")\n",
    "    # Mock filtered data\n",
    "    mock_filtered = [{\"patient_uhid\": 1, \"patient_name\": \"Victor Chen\", \"patient_age\": 21}]\n",
    "    print(\"Mock filtered patient data:\")\n",
    "    print(mock_filtered)"
   ]
  },
  {
   "cell_type": "code",
   "execution_count": 14,
   "metadata": {},
   "outputs": [
    {
     "name": "stdout",
     "output_type": "stream",
     "text": [
      "Supabase not available - using mock chained data\n",
      "Patient 1 tests: [{'test_id': 1, 'patient_uhid': 1, 'std_results': True}]\n",
      "Patient 2 tests: [{'test_id': 2, 'patient_uhid': 2, 'std_results': False}]\n"
     ]
    }
   ],
   "source": [
    "# Chaining responses\n",
    "if supabase is not None:\n",
    "    try:\n",
    "        response = supabase.table(\"Patients\").select(\"*\").execute()\n",
    "        print(\"Supabase chained query successful:\")\n",
    "        for row in response.data:\n",
    "            tests = supabase.table(\"Tests\").select(\"*\").eq(\"patient_uhid\", row['patient_uhid']).execute()\n",
    "            print(f\"Patient {row['patient_uhid']} tests: {tests.data}\")\n",
    "    except Exception as e:\n",
    "        print(f\"Supabase chained query failed: {e}\")\n",
    "else:\n",
    "    print(\"Supabase not available - using mock chained data\")\n",
    "    # Mock chained data\n",
    "    mock_patients = [\n",
    "        {\"patient_uhid\": 1, \"patient_name\": \"Victor Chen\", \"patient_age\": 21},\n",
    "        {\"patient_uhid\": 2, \"patient_name\": \"Alice Johnson\", \"patient_age\": 35}\n",
    "    ]\n",
    "    mock_tests = {\n",
    "        1: [{\"test_id\": 1, \"patient_uhid\": 1, \"std_results\": True}],\n",
    "        2: [{\"test_id\": 2, \"patient_uhid\": 2, \"std_results\": False}]\n",
    "    }\n",
    "    \n",
    "    for patient in mock_patients:\n",
    "        patient_id = patient['patient_uhid']\n",
    "        tests = mock_tests.get(patient_id, [])\n",
    "        print(f\"Patient {patient_id} tests: {tests}\")"
   ]
  }
 ],
 "metadata": {
  "kernelspec": {
   "display_name": "base",
   "language": "python",
   "name": "python3"
  },
  "language_info": {
   "codemirror_mode": {
    "name": "ipython",
    "version": 3
   },
   "file_extension": ".py",
   "mimetype": "text/x-python",
   "name": "python",
   "nbconvert_exporter": "python",
   "pygments_lexer": "ipython3",
   "version": "3.13.1"
  }
 },
 "nbformat": 4,
 "nbformat_minor": 2
}
